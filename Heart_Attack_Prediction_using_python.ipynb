{
  "nbformat": 4,
  "nbformat_minor": 0,
  "metadata": {
    "colab": {
      "name": "Untitled_(6).ipynb",
      "provenance": [],
      "collapsed_sections": [],
      "toc_visible": true
    },
    "kernelspec": {
      "display_name": "Python 3",
      "language": "python",
      "name": "python3"
    },
    "language_info": {
      "codemirror_mode": {
        "name": "ipython",
        "version": 3
      },
      "file_extension": ".py",
      "mimetype": "text/x-python",
      "name": "python",
      "nbconvert_exporter": "python",
      "pygments_lexer": "ipython3",
      "version": "3.6.1"
    }
  },
  "cells": [
    {
      "cell_type": "code",
      "metadata": {
        "collapsed": true,
        "id": "EgZ2rKzrqDkx"
      },
      "source": [
        "import pandas as pd\n",
        "import numpy as np\n",
        "from sklearn.preprocessing import LabelEncoder\n",
        "from sklearn.preprocessing import OneHotEncoder\n",
        "from sklearn.model_selection import train_test_split\n",
        "from sklearn.preprocessing import StandardScaler\n",
        "from sklearn.preprocessing import MinMaxScaler\n",
        "from sklearn import tree\n",
        "from sklearn import svm,naive_bayes\n",
        "from sklearn.neighbors import KNeighborsClassifier\n",
        "from sklearn.metrics import accuracy_score\n",
        "from pandas import read_csv\n",
        "from sklearn.preprocessing import LabelEncoder\n",
        "from sklearn.preprocessing import OrdinalEncoder\n",
        "import matplotlib.pyplot as plt\n",
        "import seaborn as sns\n",
        "from sklearn.metrics import f1_score"
      ],
      "execution_count": 162,
      "outputs": []
    },
    {
      "cell_type": "code",
      "metadata": {
        "colab": {
          "base_uri": "https://localhost:8080/",
          "height": 573
        },
        "id": "lrUhHy57qDk-",
        "outputId": "bd2ec767-d01d-4d37-cb70-750e8572c824"
      },
      "source": [
        "df=pd.read_csv('Blood_Pressure_data.csv')\n",
        "g = df[\"label\"]\n",
        "sns.countplot(g)"
      ],
      "execution_count": 163,
      "outputs": [
        {
          "output_type": "stream",
          "text": [
            "/usr/local/lib/python3.6/dist-packages/seaborn/_decorators.py:43: FutureWarning: Pass the following variable as a keyword arg: x. From version 0.12, the only valid positional argument will be `data`, and passing other arguments without an explicit keyword will result in an error or misinterpretation.\n",
            "  FutureWarning\n"
          ],
          "name": "stderr"
        },
        {
          "output_type": "execute_result",
          "data": {
            "text/plain": [
              "<matplotlib.axes._subplots.AxesSubplot at 0x7f1d0f3eb470>"
            ]
          },
          "metadata": {
            "tags": []
          },
          "execution_count": 163
        },
        {
          "output_type": "display_data",
          "data": {
            "image/png": "[encoded data removed]",
            "text/plain": [
              "<Figure size 1080x576 with 1 Axes>"
            ]
          },
          "metadata": {
            "tags": []
          }
        }
      ]
    },
    {
      "cell_type": "code",
      "metadata": {
        "colab": {
          "base_uri": "https://localhost:8080/",
          "height": 309
        },
        "id": "vBUhAW6oqDk_",
        "outputId": "c2714044-d406-479c-ec40-e8438b8b28f9"
      },
      "source": [
        "\n",
        "# df=df.drop(\"id\",axis=1)\n",
        "# df=df.drop(\"patient_no\",axis=1)\n",
        "df=df.drop(\"cast\",axis=1)\n",
        "# df=df.drop(\"gender\",axis=1)\n",
        "df=df.drop(\"weight\",axis=1)\n",
        "# df=df.drop(\"admission_typeid\",axis=1)\n",
        "# df=df.drop(\"discharge_disposition_id\",axis=1)\n",
        "# df=df.drop(\"time_in_hospital\",axis=1)\n",
        "# df=df.drop(\"admission_source_id\",axis=1)\n",
        "df=df.drop(\"payer_code\",axis=1)\n",
        "# df=df.drop(\"num_lab_procedures\",axis=1)\n",
        "# df=df.drop(\"num_procedures\",axis=1)\n",
        "df=df.drop(\"medical_specialty\",axis=1)\n",
        "df=df.drop(\"diag_3\",axis=1)\n",
        "df=df.drop(\"diag_2\",axis=1)\n",
        "df=df.drop(\"diag_1\",axis=1)\n",
        "df=df.drop(\"change\",axis=1)\n",
        "df=df.drop(\"Med\",axis=1)\n",
        "df.head()"
      ],
      "execution_count": 164,
      "outputs": [
        {
          "output_type": "execute_result",
          "data": {
            "text/html": [
              "<div>\n",
              "<style scoped>\n",
              "    .dataframe tbody tr th:only-of-type {\n",
              "        vertical-align: middle;\n",
              "    }\n",
              "\n",
              "    .dataframe tbody tr th {\n",
              "        vertical-align: top;\n",
              "    }\n",
              "\n",
              "    .dataframe thead th {\n",
              "        text-align: right;\n",
              "    }\n",
              "</style>\n",
              "<table border=\"1\" class=\"dataframe\">\n",
              "  <thead>\n",
              "    <tr style=\"text-align: right;\">\n",
              "      <th></th>\n",
              "      <th>id</th>\n",
              "      <th>patient_no</th>\n",
              "      <th>gender</th>\n",
              "      <th>age group</th>\n",
              "      <th>admission_typeid</th>\n",
              "      <th>discharge_disposition_id</th>\n",
              "      <th>admission_source_id</th>\n",
              "      <th>time_in_hospital</th>\n",
              "      <th>num_lab_procedures</th>\n",
              "      <th>num_procedures</th>\n",
              "      <th>num_medications</th>\n",
              "      <th>number_outpatient</th>\n",
              "      <th>number_emergency</th>\n",
              "      <th>number_inpatient</th>\n",
              "      <th>number_diagnoses</th>\n",
              "      <th>max_glu_serum</th>\n",
              "      <th>A1Cresult</th>\n",
              "      <th>metformin</th>\n",
              "      <th>repaglinide</th>\n",
              "      <th>nateglinide</th>\n",
              "      <th>chlorpropamide</th>\n",
              "      <th>glimepiride</th>\n",
              "      <th>acetohexamide</th>\n",
              "      <th>glipizide</th>\n",
              "      <th>glyburide</th>\n",
              "      <th>tolbutamide</th>\n",
              "      <th>pioglitazone</th>\n",
              "      <th>rosiglitazone</th>\n",
              "      <th>acarbose</th>\n",
              "      <th>miglitol</th>\n",
              "      <th>troglitazone</th>\n",
              "      <th>tolazamide</th>\n",
              "      <th>examide</th>\n",
              "      <th>citoglipton</th>\n",
              "      <th>insulin</th>\n",
              "      <th>glyburide-metformin</th>\n",
              "      <th>glipizide-metformin</th>\n",
              "      <th>glimepiride-pioglitazone</th>\n",
              "      <th>metformin-rosiglitazone</th>\n",
              "      <th>metformin-pioglitazone</th>\n",
              "      <th>label</th>\n",
              "    </tr>\n",
              "  </thead>\n",
              "  <tbody>\n",
              "    <tr>\n",
              "      <th>0</th>\n",
              "      <td>2278392</td>\n",
              "      <td>8222157</td>\n",
              "      <td>Female</td>\n",
              "      <td>[0-10)</td>\n",
              "      <td>6</td>\n",
              "      <td>25</td>\n",
              "      <td>1</td>\n",
              "      <td>1</td>\n",
              "      <td>41</td>\n",
              "      <td>0</td>\n",
              "      <td>1</td>\n",
              "      <td>0</td>\n",
              "      <td>0</td>\n",
              "      <td>0</td>\n",
              "      <td>1</td>\n",
              "      <td>None</td>\n",
              "      <td>None</td>\n",
              "      <td>No</td>\n",
              "      <td>No</td>\n",
              "      <td>No</td>\n",
              "      <td>No</td>\n",
              "      <td>No</td>\n",
              "      <td>No</td>\n",
              "      <td>No</td>\n",
              "      <td>No</td>\n",
              "      <td>No</td>\n",
              "      <td>No</td>\n",
              "      <td>No</td>\n",
              "      <td>No</td>\n",
              "      <td>No</td>\n",
              "      <td>No</td>\n",
              "      <td>No</td>\n",
              "      <td>No</td>\n",
              "      <td>No</td>\n",
              "      <td>No</td>\n",
              "      <td>No</td>\n",
              "      <td>No</td>\n",
              "      <td>No</td>\n",
              "      <td>No</td>\n",
              "      <td>No</td>\n",
              "      <td>NO</td>\n",
              "    </tr>\n",
              "    <tr>\n",
              "      <th>1</th>\n",
              "      <td>149190</td>\n",
              "      <td>55629189</td>\n",
              "      <td>Female</td>\n",
              "      <td>[10-20)</td>\n",
              "      <td>1</td>\n",
              "      <td>1</td>\n",
              "      <td>7</td>\n",
              "      <td>3</td>\n",
              "      <td>59</td>\n",
              "      <td>0</td>\n",
              "      <td>18</td>\n",
              "      <td>0</td>\n",
              "      <td>0</td>\n",
              "      <td>0</td>\n",
              "      <td>9</td>\n",
              "      <td>None</td>\n",
              "      <td>None</td>\n",
              "      <td>No</td>\n",
              "      <td>No</td>\n",
              "      <td>No</td>\n",
              "      <td>No</td>\n",
              "      <td>No</td>\n",
              "      <td>No</td>\n",
              "      <td>No</td>\n",
              "      <td>No</td>\n",
              "      <td>No</td>\n",
              "      <td>No</td>\n",
              "      <td>No</td>\n",
              "      <td>No</td>\n",
              "      <td>No</td>\n",
              "      <td>No</td>\n",
              "      <td>No</td>\n",
              "      <td>No</td>\n",
              "      <td>No</td>\n",
              "      <td>Up</td>\n",
              "      <td>No</td>\n",
              "      <td>No</td>\n",
              "      <td>No</td>\n",
              "      <td>No</td>\n",
              "      <td>No</td>\n",
              "      <td>&gt;5</td>\n",
              "    </tr>\n",
              "    <tr>\n",
              "      <th>2</th>\n",
              "      <td>64410</td>\n",
              "      <td>86047875</td>\n",
              "      <td>Female</td>\n",
              "      <td>[20-30)</td>\n",
              "      <td>1</td>\n",
              "      <td>1</td>\n",
              "      <td>7</td>\n",
              "      <td>2</td>\n",
              "      <td>11</td>\n",
              "      <td>5</td>\n",
              "      <td>13</td>\n",
              "      <td>2</td>\n",
              "      <td>0</td>\n",
              "      <td>1</td>\n",
              "      <td>6</td>\n",
              "      <td>None</td>\n",
              "      <td>None</td>\n",
              "      <td>No</td>\n",
              "      <td>No</td>\n",
              "      <td>No</td>\n",
              "      <td>No</td>\n",
              "      <td>No</td>\n",
              "      <td>No</td>\n",
              "      <td>Steady</td>\n",
              "      <td>No</td>\n",
              "      <td>No</td>\n",
              "      <td>No</td>\n",
              "      <td>No</td>\n",
              "      <td>No</td>\n",
              "      <td>No</td>\n",
              "      <td>No</td>\n",
              "      <td>No</td>\n",
              "      <td>No</td>\n",
              "      <td>No</td>\n",
              "      <td>No</td>\n",
              "      <td>No</td>\n",
              "      <td>No</td>\n",
              "      <td>No</td>\n",
              "      <td>No</td>\n",
              "      <td>No</td>\n",
              "      <td>NO</td>\n",
              "    </tr>\n",
              "    <tr>\n",
              "      <th>3</th>\n",
              "      <td>500364</td>\n",
              "      <td>82442376</td>\n",
              "      <td>Male</td>\n",
              "      <td>[30-40)</td>\n",
              "      <td>1</td>\n",
              "      <td>1</td>\n",
              "      <td>7</td>\n",
              "      <td>2</td>\n",
              "      <td>44</td>\n",
              "      <td>1</td>\n",
              "      <td>16</td>\n",
              "      <td>0</td>\n",
              "      <td>0</td>\n",
              "      <td>0</td>\n",
              "      <td>7</td>\n",
              "      <td>None</td>\n",
              "      <td>None</td>\n",
              "      <td>No</td>\n",
              "      <td>No</td>\n",
              "      <td>No</td>\n",
              "      <td>No</td>\n",
              "      <td>No</td>\n",
              "      <td>No</td>\n",
              "      <td>No</td>\n",
              "      <td>No</td>\n",
              "      <td>No</td>\n",
              "      <td>No</td>\n",
              "      <td>No</td>\n",
              "      <td>No</td>\n",
              "      <td>No</td>\n",
              "      <td>No</td>\n",
              "      <td>No</td>\n",
              "      <td>No</td>\n",
              "      <td>No</td>\n",
              "      <td>Up</td>\n",
              "      <td>No</td>\n",
              "      <td>No</td>\n",
              "      <td>No</td>\n",
              "      <td>No</td>\n",
              "      <td>No</td>\n",
              "      <td>NO</td>\n",
              "    </tr>\n",
              "    <tr>\n",
              "      <th>4</th>\n",
              "      <td>16680</td>\n",
              "      <td>42519267</td>\n",
              "      <td>Male</td>\n",
              "      <td>[40-50)</td>\n",
              "      <td>1</td>\n",
              "      <td>1</td>\n",
              "      <td>7</td>\n",
              "      <td>1</td>\n",
              "      <td>51</td>\n",
              "      <td>0</td>\n",
              "      <td>8</td>\n",
              "      <td>0</td>\n",
              "      <td>0</td>\n",
              "      <td>0</td>\n",
              "      <td>5</td>\n",
              "      <td>None</td>\n",
              "      <td>None</td>\n",
              "      <td>No</td>\n",
              "      <td>No</td>\n",
              "      <td>No</td>\n",
              "      <td>No</td>\n",
              "      <td>No</td>\n",
              "      <td>No</td>\n",
              "      <td>Steady</td>\n",
              "      <td>No</td>\n",
              "      <td>No</td>\n",
              "      <td>No</td>\n",
              "      <td>No</td>\n",
              "      <td>No</td>\n",
              "      <td>No</td>\n",
              "      <td>No</td>\n",
              "      <td>No</td>\n",
              "      <td>No</td>\n",
              "      <td>No</td>\n",
              "      <td>Steady</td>\n",
              "      <td>No</td>\n",
              "      <td>No</td>\n",
              "      <td>No</td>\n",
              "      <td>No</td>\n",
              "      <td>No</td>\n",
              "      <td>NO</td>\n",
              "    </tr>\n",
              "  </tbody>\n",
              "</table>\n",
              "</div>"
            ],
            "text/plain": [
              "        id  patient_no  ... metformin-pioglitazone label\n",
              "0  2278392     8222157  ...                     No    NO\n",
              "1   149190    55629189  ...                     No    >5\n",
              "2    64410    86047875  ...                     No    NO\n",
              "3   500364    82442376  ...                     No    NO\n",
              "4    16680    42519267  ...                     No    NO\n",
              "\n",
              "[5 rows x 41 columns]"
            ]
          },
          "metadata": {
            "tags": []
          },
          "execution_count": 164
        }
      ]
    },
    {
      "cell_type": "code",
      "metadata": {
        "collapsed": true,
        "id": "0HeLObwbqDlA",
        "colab": {
          "base_uri": "https://localhost:8080/"
        },
        "outputId": "d1ebaccc-78b1-4668-9720-a3a347d544c9"
      },
      "source": [
        "df_copy=df.copy()\n",
        "df_copy=df_copy.replace('?', np.NaN)\n",
        "# df_copy[\"payer_code\"].fillna( method ='backfill',inplace = True)\n",
        "# df_copy[\"payer_code\"].fillna('MD',inplace = True)\n",
        "# df_copy[\"weight\"].fillna( method ='backfill',inplace = True)\n",
        "# df_copy[\"weight\"].fillna('[25-50)',inplace = True)\n",
        "# df_copy[\"cast\"].fillna( method ='backfill',inplace = True)\n",
        "# df_copy[\"medical_specialty\"].fillna( method ='backfill',inplace = True)\n",
        "# df_copy[\"medical_specialty\"].fillna('Urology',inplace = True)\n",
        "# df_copy[\"diag_1\"].fillna( method ='backfill',inplace = True)\n",
        "# df_copy[\"diag_2\"].fillna( method ='backfill',inplace = True)\n",
        "# df_copy[\"diag_3\"].fillna( method ='backfill',inplace = True)\n",
        "df_copy.fillna(method ='ffill',inplace = True)\n",
        "df_copy.isnull().sum().sum()"
      ],
      "execution_count": 165,
      "outputs": [
        {
          "output_type": "execute_result",
          "data": {
            "text/plain": [
              "0"
            ]
          },
          "metadata": {
            "tags": []
          },
          "execution_count": 165
        }
      ]
    },
    {
      "cell_type": "code",
      "metadata": {
        "id": "3Ja3XHSZujzJ"
      },
      "source": [
        "data = df_copy.values\r\n",
        "X = df_copy.drop(\"label\", axis = 1)\r\n",
        "d={'NO':0,'>5':1, '<30':2}\r\n",
        "df_copy[\"label\"]=df_copy[\"label\"].map(d)\r\n",
        "y = df_copy[\"label\"]\r\n",
        "ordinal_encoder = OrdinalEncoder()\r\n",
        "X = ordinal_encoder.fit_transform(X)\r\n",
        "label_encoder = LabelEncoder()"
      ],
      "execution_count": 166,
      "outputs": []
    },
    {
      "cell_type": "code",
      "metadata": {
        "id": "lWro2J2FqDlB"
      },
      "source": [
        "X_train, X_test, y_train, y_test =train_test_split(X, y, test_size=0.2, random_state=51)\n",
        "sc = StandardScaler()\n",
        "sc.fit(X_train)\n",
        "X_train_sc = sc.transform(X_train)\n",
        "X_test_sc = sc.transform(X_test)\n",
        "X_train_sc =  pd.DataFrame(X_train_sc)\n",
        "X_test_sc =  pd.DataFrame(X_test_sc)"
      ],
      "execution_count": 167,
      "outputs": []
    },
    {
      "cell_type": "code",
      "metadata": {
        "id": "p5076z_YvMpL",
        "colab": {
          "base_uri": "https://localhost:8080/"
        },
        "outputId": "c622b1bb-ee61-4428-df15-2d11af2bd922"
      },
      "source": [
        "# decision tree\r\n",
        "clf = tree.DecisionTreeClassifier(random_state=0,max_depth=9)\r\n",
        "clf = clf.fit(X_train, y_train)\r\n",
        "pred=clf.predict(X_test)\r\n",
        "score_dt = round(accuracy_score(pred,y_test)*100,2)\r\n",
        "print(score_dt)\r\n",
        "f1 = f1_score(y_test,pred,average='macro')\r\n",
        "print(f1)"
      ],
      "execution_count": 173,
      "outputs": [
        {
          "output_type": "stream",
          "text": [
            "59.16\n",
            "0.4235629223942932\n"
          ],
          "name": "stdout"
        }
      ]
    },
    {
      "cell_type": "code",
      "metadata": {
        "colab": {
          "base_uri": "https://localhost:8080/"
        },
        "id": "i_BL0VBPYIX5",
        "outputId": "f9ed876e-d5f9-46e6-8b42-3a78fe066be3"
      },
      "source": [
        "from sklearn.naive_bayes import GaussianNB\r\n",
        "nb = GaussianNB()\r\n",
        "nb.fit(X_train,y_train)\r\n",
        "Y_pred_nb = nb.predict(X_test)\r\n",
        "score_nb = round(accuracy_score(Y_pred_nb,y_test)*100,2)\r\n",
        "nb.score(X_test_sc,y_test)\r\n",
        "print(score_nb)\r\n",
        "f1 = f1_score(y_test,Y_pred_nb,average='macro')\r\n",
        "print(f1)"
      ],
      "execution_count": 174,
      "outputs": [
        {
          "output_type": "stream",
          "text": [
            "55.79\n",
            "0.34580665907988\n"
          ],
          "name": "stdout"
        }
      ]
    },
    {
      "cell_type": "code",
      "metadata": {
        "id": "WkT-UZoFcLlO"
      },
      "source": [
        "# from sklearn.linear_model import LogisticRegression\r\n",
        "# lr = LogisticRegression()\r\n",
        "# lr.fit(X_train,y_train)\r\n",
        "# Y_pred_lr = lr.predict(X_test)\r\n",
        "# score_lr = round(accuracy_score(Y_pred_lr,y_test)*100,2)\r\n",
        "# lr.score(X_test_sc,y_test)\r\n",
        "# print(score_lr)\r\n",
        "# f1 = f1_score(y_test,Y_pred_lr,average='macro')\r\n",
        "# print(f1)"
      ],
      "execution_count": 170,
      "outputs": []
    },
    {
      "cell_type": "code",
      "metadata": {
        "colab": {
          "base_uri": "https://localhost:8080/"
        },
        "id": "0lZ5rTQvbCaA",
        "outputId": "bd929729-c2a9-4357-87d5-03b6104e2a1b"
      },
      "source": [
        "from sklearn.neighbors import KNeighborsClassifier\r\n",
        "knn = KNeighborsClassifier(n_neighbors=70)\r\n",
        "knn.fit(X_train,y_train)\r\n",
        "Y_pred_knn=knn.predict(X_test)\r\n",
        "score_knn = round(accuracy_score(Y_pred_knn,y_test)*100,2)\r\n",
        "knn.score(X_test_sc,y_test)\r\n",
        "print(score_knn)\r\n",
        "f1 = f1_score(y_test,Y_pred_knn,average='macro')\r\n",
        "print(f1)"
      ],
      "execution_count": 175,
      "outputs": [
        {
          "output_type": "stream",
          "text": [
            "55.04\n",
            "0.35037866165830506\n"
          ],
          "name": "stdout"
        }
      ]
    },
    {
      "cell_type": "code",
      "metadata": {
        "colab": {
          "base_uri": "https://localhost:8080/"
        },
        "id": "exAYlWetnB9p",
        "outputId": "f60b1019-9f9d-49a0-8b36-06e32eb62ce1"
      },
      "source": [
        "scores = [score_nb,score_knn,score_dt]\r\n",
        "algorithms = [\"Naive Bayes\",\"K-Nearest Neighbors\",\"Decision Tree\"]    \r\n",
        "\r\n",
        "for i in range(len(algorithms)):\r\n",
        "    print(\"The accuracy score achieved using \"+algorithms[i]+\" is: \"+str(scores[i])+\" %\")"
      ],
      "execution_count": 176,
      "outputs": [
        {
          "output_type": "stream",
          "text": [
            "The accuracy score achieved using Naive Bayes is: 55.79 %\n",
            "The accuracy score achieved using K-Nearest Neighbors is: 55.04 %\n",
            "The accuracy score achieved using Decision Tree is: 59.16 %\n"
          ],
          "name": "stdout"
        }
      ]
    },
    {
      "cell_type": "code",
      "metadata": {
        "colab": {
          "base_uri": "https://localhost:8080/",
          "height": 573
        },
        "id": "oZzxRLQ5sYL9",
        "outputId": "c4e77e31-a6c9-4173-a181-8f9227057d6c"
      },
      "source": [
        "sns.set(rc={'figure.figsize':(15,8)})\r\n",
        "plt.xlabel(\"Algorithms\")\r\n",
        "plt.ylabel(\"Accuracy score\")\r\n",
        "sns.barplot(algorithms,scores)"
      ],
      "execution_count": 177,
      "outputs": [
        {
          "output_type": "stream",
          "text": [
            "/usr/local/lib/python3.6/dist-packages/seaborn/_decorators.py:43: FutureWarning: Pass the following variables as keyword args: x, y. From version 0.12, the only valid positional argument will be `data`, and passing other arguments without an explicit keyword will result in an error or misinterpretation.\n",
            "  FutureWarning\n"
          ],
          "name": "stderr"
        },
        {
          "output_type": "execute_result",
          "data": {
            "text/plain": [
              "<matplotlib.axes._subplots.AxesSubplot at 0x7f1d1770e588>"
            ]
          },
          "metadata": {
            "tags": []
          },
          "execution_count": 177
        },
        {
          "output_type": "display_data",
          "data": {
            "image/png": "[encoded data removed]",
            "text/plain": [
              "<Figure size 1080x576 with 1 Axes>"
            ]
          },
          "metadata": {
            "tags": []
          }
        }
      ]
    }
  ]
}